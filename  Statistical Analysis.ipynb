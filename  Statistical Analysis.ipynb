{
 "cells": [
  {
   "cell_type": "markdown",
   "metadata": {},
   "source": [
    "# Statistical Analysis of COVID-19 in Maharashtra , India"
   ]
  },
  {
   "cell_type": "markdown",
   "metadata": {},
   "source": [
    "A  District wise detailed statistical analysis of the COVID-19 in Maharashtra , India"
   ]
  },
  {
   "cell_type": "code",
   "execution_count": null,
   "metadata": {},
   "outputs": [],
   "source": []
  },
  {
   "cell_type": "markdown",
   "metadata": {},
   "source": [
    "The first case of the COVID-19 Pandemic in the Indian state of Maharashtra was confirmed on 9 March 2020.  Maharashtra confirmed around 22 thousand cases of the coronavirus (COVID-19) as of May 11, 2020, with 832 fatalities and 4,199 recoveries( and may have crossed 25K by now ). The country went into lockdown on March 25, the largest in the world, restricting 1.3 billion people. \n",
    "\t\t\t\n",
    "In this post, I will take a look at the current situation of Maharashtra and the district wise impact of the pandemic, we will also try to find out the what leads the pandemic to spread so rapidly Specifically in Maharashtra India. We will take a look at the regions which are most hampered by the outbreak and how numbers have steadily climbed in the different district.\n",
    "\t\t\t\n",
    "To start off, we will import the necessary libraries which I will be using in my analysis."
   ]
  },
  {
   "cell_type": "code",
   "execution_count": null,
   "metadata": {},
   "outputs": [],
   "source": []
  },
  {
   "cell_type": "code",
   "execution_count": 1,
   "metadata": {},
   "outputs": [],
   "source": [
    "import pandas as pd\n",
    "import matplotlib.pyplot as plt \n",
    "import seaborn as sns"
   ]
  },
  {
   "cell_type": "code",
   "execution_count": null,
   "metadata": {},
   "outputs": [],
   "source": []
  },
  {
   "cell_type": "markdown",
   "metadata": {},
   "source": [
    "Next up,lets import the different data tables that I have gathered ."
   ]
  },
  {
   "cell_type": "code",
   "execution_count": null,
   "metadata": {},
   "outputs": [],
   "source": []
  },
  {
   "cell_type": "code",
   "execution_count": 2,
   "metadata": {},
   "outputs": [],
   "source": [
    "C_D = pd.read_csv('/home/vaibhav/Downloads/corona_district.csv')\n",
    "M_D = pd.read_csv('/home/vaibhav/Downloads/maharastra population districtwise.csv')"
   ]
  },
  {
   "cell_type": "code",
   "execution_count": null,
   "metadata": {},
   "outputs": [],
   "source": []
  },
  {
   "cell_type": "markdown",
   "metadata": {},
   "source": [
    "Here I am using two different sources of data in this analysis. The first dataset is taken from the Covid-19 India Data by ZT API ( A free API that provides the Covid-19 data ), and the second dataset I downloaded from Kaggle thanks to saketh saraswathi.\n",
    "\t\t\t\n",
    "You can download the datasets from my GitHub repository the link to which I have attached at the end of the post. Just remember to give the due credits though if you use them on the web!\n",
    "\n",
    "Now let’s start by looking at the datasets\n",
    "\t\t\t\n",
    "corona_district.csv"
   ]
  },
  {
   "cell_type": "code",
   "execution_count": 3,
   "metadata": {},
   "outputs": [
    {
     "data": {
      "text/html": [
       "<div>\n",
       "<style scoped>\n",
       "    .dataframe tbody tr th:only-of-type {\n",
       "        vertical-align: middle;\n",
       "    }\n",
       "\n",
       "    .dataframe tbody tr th {\n",
       "        vertical-align: top;\n",
       "    }\n",
       "\n",
       "    .dataframe thead th {\n",
       "        text-align: right;\n",
       "    }\n",
       "</style>\n",
       "<table border=\"1\" class=\"dataframe\">\n",
       "  <thead>\n",
       "    <tr style=\"text-align: right;\">\n",
       "      <th></th>\n",
       "      <th>Unnamed: 0</th>\n",
       "      <th>name</th>\n",
       "      <th>notes</th>\n",
       "      <th>active</th>\n",
       "      <th>deceased</th>\n",
       "      <th>confirmed</th>\n",
       "      <th>recovered</th>\n",
       "      <th>newconfirmed</th>\n",
       "    </tr>\n",
       "  </thead>\n",
       "  <tbody>\n",
       "    <tr>\n",
       "      <th>0</th>\n",
       "      <td>0</td>\n",
       "      <td>Ahmednagar</td>\n",
       "      <td>NaN</td>\n",
       "      <td>27</td>\n",
       "      <td>3</td>\n",
       "      <td>63</td>\n",
       "      <td>33</td>\n",
       "      <td>0</td>\n",
       "    </tr>\n",
       "    <tr>\n",
       "      <th>1</th>\n",
       "      <td>1</td>\n",
       "      <td>Akola</td>\n",
       "      <td>NaN</td>\n",
       "      <td>137</td>\n",
       "      <td>11</td>\n",
       "      <td>162</td>\n",
       "      <td>14</td>\n",
       "      <td>0</td>\n",
       "    </tr>\n",
       "    <tr>\n",
       "      <th>2</th>\n",
       "      <td>2</td>\n",
       "      <td>Amravati</td>\n",
       "      <td>NaN</td>\n",
       "      <td>49</td>\n",
       "      <td>13</td>\n",
       "      <td>83</td>\n",
       "      <td>21</td>\n",
       "      <td>0</td>\n",
       "    </tr>\n",
       "    <tr>\n",
       "      <th>3</th>\n",
       "      <td>3</td>\n",
       "      <td>Aurangabad</td>\n",
       "      <td>NaN</td>\n",
       "      <td>475</td>\n",
       "      <td>14</td>\n",
       "      <td>584</td>\n",
       "      <td>95</td>\n",
       "      <td>0</td>\n",
       "    </tr>\n",
       "    <tr>\n",
       "      <th>4</th>\n",
       "      <td>4</td>\n",
       "      <td>Beed</td>\n",
       "      <td>NaN</td>\n",
       "      <td>0</td>\n",
       "      <td>0</td>\n",
       "      <td>1</td>\n",
       "      <td>1</td>\n",
       "      <td>0</td>\n",
       "    </tr>\n",
       "  </tbody>\n",
       "</table>\n",
       "</div>"
      ],
      "text/plain": [
       "   Unnamed: 0        name notes  active  deceased  confirmed  recovered  \\\n",
       "0           0  Ahmednagar   NaN      27         3         63         33   \n",
       "1           1       Akola   NaN     137        11        162         14   \n",
       "2           2    Amravati   NaN      49        13         83         21   \n",
       "3           3  Aurangabad   NaN     475        14        584         95   \n",
       "4           4        Beed   NaN       0         0          1          1   \n",
       "\n",
       "   newconfirmed  \n",
       "0             0  \n",
       "1             0  \n",
       "2             0  \n",
       "3             0  \n",
       "4             0  "
      ]
     },
     "execution_count": 3,
     "metadata": {},
     "output_type": "execute_result"
    }
   ],
   "source": [
    "C_D.head()"
   ]
  },
  {
   "cell_type": "code",
   "execution_count": null,
   "metadata": {},
   "outputs": [],
   "source": []
  },
  {
   "cell_type": "markdown",
   "metadata": {},
   "source": [
    "Now  , we can see that the dataset corona_district.csv has the data regarding the total confirmed  , active , diseased ,  recovered and new confirmed  corona cases pr districts in Maharashtra \n",
    " \n",
    "maharashtra_Info_districtwise.csv"
   ]
  },
  {
   "cell_type": "code",
   "execution_count": null,
   "metadata": {},
   "outputs": [],
   "source": []
  },
  {
   "cell_type": "code",
   "execution_count": 4,
   "metadata": {},
   "outputs": [
    {
     "data": {
      "text/html": [
       "<div>\n",
       "<style scoped>\n",
       "    .dataframe tbody tr th:only-of-type {\n",
       "        vertical-align: middle;\n",
       "    }\n",
       "\n",
       "    .dataframe tbody tr th {\n",
       "        vertical-align: top;\n",
       "    }\n",
       "\n",
       "    .dataframe thead th {\n",
       "        text-align: right;\n",
       "    }\n",
       "</style>\n",
       "<table border=\"1\" class=\"dataframe\">\n",
       "  <thead>\n",
       "    <tr style=\"text-align: right;\">\n",
       "      <th></th>\n",
       "      <th>s.no</th>\n",
       "      <th>District</th>\n",
       "      <th>population_2011</th>\n",
       "      <th>population_2001</th>\n",
       "      <th>Area(sq km)</th>\n",
       "      <th>literacy</th>\n",
       "      <th>Sex ratio(per 1000 boys)</th>\n",
       "    </tr>\n",
       "  </thead>\n",
       "  <tbody>\n",
       "    <tr>\n",
       "      <th>0</th>\n",
       "      <td>1</td>\n",
       "      <td>Thane</td>\n",
       "      <td>11,060,148</td>\n",
       "      <td>8,131,849</td>\n",
       "      <td>9,558</td>\n",
       "      <td>84.53 %</td>\n",
       "      <td>886</td>\n",
       "    </tr>\n",
       "    <tr>\n",
       "      <th>1</th>\n",
       "      <td>2</td>\n",
       "      <td>Pune</td>\n",
       "      <td>9,429,408</td>\n",
       "      <td>7,232,555</td>\n",
       "      <td>15,643</td>\n",
       "      <td>86.15 %</td>\n",
       "      <td>915</td>\n",
       "    </tr>\n",
       "    <tr>\n",
       "      <th>2</th>\n",
       "      <td>3</td>\n",
       "      <td>Mumbai Suburban</td>\n",
       "      <td>9,356,962</td>\n",
       "      <td>8,640,419</td>\n",
       "      <td>446</td>\n",
       "      <td>89.91 %</td>\n",
       "      <td>860</td>\n",
       "    </tr>\n",
       "    <tr>\n",
       "      <th>3</th>\n",
       "      <td>4</td>\n",
       "      <td>Nashik</td>\n",
       "      <td>6,107,187</td>\n",
       "      <td>4,993,796</td>\n",
       "      <td>15,530</td>\n",
       "      <td>82.31 %</td>\n",
       "      <td>934</td>\n",
       "    </tr>\n",
       "    <tr>\n",
       "      <th>4</th>\n",
       "      <td>5</td>\n",
       "      <td>Nagpur</td>\n",
       "      <td>4,653,570</td>\n",
       "      <td>4,067,637</td>\n",
       "      <td>9,892</td>\n",
       "      <td>88.39 %</td>\n",
       "      <td>951</td>\n",
       "    </tr>\n",
       "  </tbody>\n",
       "</table>\n",
       "</div>"
      ],
      "text/plain": [
       "   s.no         District population_2011 population_2001 Area(sq km) literacy  \\\n",
       "0     1            Thane      11,060,148       8,131,849       9,558  84.53 %   \n",
       "1     2             Pune       9,429,408       7,232,555      15,643  86.15 %   \n",
       "2     3  Mumbai Suburban       9,356,962       8,640,419         446  89.91 %   \n",
       "3     4           Nashik       6,107,187       4,993,796      15,530  82.31 %   \n",
       "4     5           Nagpur       4,653,570       4,067,637       9,892  88.39 %   \n",
       "\n",
       "   Sex ratio(per 1000 boys)  \n",
       "0                       886  \n",
       "1                       915  \n",
       "2                       860  \n",
       "3                       934  \n",
       "4                       951  "
      ]
     },
     "execution_count": 4,
     "metadata": {},
     "output_type": "execute_result"
    }
   ],
   "source": [
    "M_D.head()"
   ]
  },
  {
   "cell_type": "code",
   "execution_count": null,
   "metadata": {},
   "outputs": [],
   "source": []
  },
  {
   "cell_type": "markdown",
   "metadata": {},
   "source": [
    "Here in the maharashtra_Info_districtwise.csv, we have the district-wise statistics like population, area, literacy ... etc. This data set will be our key point in order to understand the main reason behind the spread of the COVID -19 in Maharashtra with such a high extent\n",
    "By understanding these datasets we will be able to answer the following questions :\n",
    "                \n",
    "- do the population and population density affect corona spread ?\n",
    "- Does the district with high literacy percentage has less corona spread?\n",
    "\n",
    "Now let’s start our analysis based on these datasets"
   ]
  },
  {
   "cell_type": "code",
   "execution_count": null,
   "metadata": {},
   "outputs": [],
   "source": []
  },
  {
   "cell_type": "markdown",
   "metadata": {},
   "source": [
    "# district wise figure "
   ]
  },
  {
   "cell_type": "markdown",
   "metadata": {},
   "source": [
    "lets first visualize the district wise corona count to get some intuition about the condition "
   ]
  },
  {
   "cell_type": "code",
   "execution_count": null,
   "metadata": {},
   "outputs": [],
   "source": []
  },
  {
   "cell_type": "code",
   "execution_count": 8,
   "metadata": {},
   "outputs": [
    {
     "data": {
      "image/png": "[encoded data removed]",
      "text/plain": [
       "<Figure size 1440x720 with 1 Axes>"
      ]
     },
     "metadata": {
      "needs_background": "light"
     },
     "output_type": "display_data"
    }
   ],
   "source": [
    "df = C_D.loc[C_D['confirmed'] > 100] # We are just taking Districts with more than 100 covid cases for visulization only \n",
    "def barplot(df, x_dim, y_dim ):\n",
    "  x = df[x_dim]\n",
    "  y = df[y_dim]\n",
    "  fig, ax = plt.subplots(figsize=(20, 10))\n",
    "  #applies the custom color map along with the color sequence\n",
    "  ax.bar(x, y, alpha=0.70 )\n",
    "  #adds a title and axes labels\n",
    "  ax.set_title('Pune cases analisis ')\n",
    "  ax.set_xlabel('cases')\n",
    "  ax.set_ylabel('number')\n",
    "  #removing top and right borders\n",
    "  ax.spines['top'].set_visible(False)\n",
    "  ax.spines['right'].set_visible(False)\n",
    "  #adds major gridlines\n",
    "  ax.grid(color='grey', linestyle='-', linewidth=0.25, alpha=0.5)\n",
    "  plt.show()\n",
    "barplot(df, 'name' ,'confirmed')"
   ]
  },
  {
   "cell_type": "code",
   "execution_count": null,
   "metadata": {},
   "outputs": [],
   "source": []
  },
  {
   "cell_type": "markdown",
   "metadata": {},
   "source": [
    "From this plot it is pretty clear that Mumbai has taken by corona( more than 50% of the cases in Maharashtra ), it has  \"community spread\",  because of such high count it may hamper the analysis so we will remove it from the final dataset."
   ]
  },
  {
   "cell_type": "code",
   "execution_count": null,
   "metadata": {},
   "outputs": [],
   "source": []
  },
  {
   "cell_type": "code",
   "execution_count": 13,
   "metadata": {},
   "outputs": [],
   "source": [
    "C_D.rename(columns = {'name':'District'}, inplace = True)\n",
    "F_D = pd.merge(C_D,M_D, how='inner', on='District')"
   ]
  },
  {
   "cell_type": "code",
   "execution_count": 14,
   "metadata": {},
   "outputs": [],
   "source": [
    "#F_D = F_D.drop(['s.no','Unnamed: 0' , 'notes','newconfirmed' ,'population_2001','Sex ratio(per 1000 boys)'] , axis = 1)"
   ]
  },
  {
   "cell_type": "code",
   "execution_count": null,
   "metadata": {},
   "outputs": [],
   "source": []
  },
  {
   "cell_type": "markdown",
   "metadata": {},
   "source": [
    "# Data Prepossessing :"
   ]
  },
  {
   "cell_type": "markdown",
   "metadata": {},
   "source": [
    "Now we will combine these two datasets ( excluding Mumbai ).\n",
    "The final dataset is :"
   ]
  },
  {
   "cell_type": "code",
   "execution_count": null,
   "metadata": {},
   "outputs": [],
   "source": []
  },
  {
   "cell_type": "code",
   "execution_count": 15,
   "metadata": {},
   "outputs": [
    {
     "data": {
      "text/html": [
       "<div>\n",
       "<style scoped>\n",
       "    .dataframe tbody tr th:only-of-type {\n",
       "        vertical-align: middle;\n",
       "    }\n",
       "\n",
       "    .dataframe tbody tr th {\n",
       "        vertical-align: top;\n",
       "    }\n",
       "\n",
       "    .dataframe thead th {\n",
       "        text-align: right;\n",
       "    }\n",
       "</style>\n",
       "<table border=\"1\" class=\"dataframe\">\n",
       "  <thead>\n",
       "    <tr style=\"text-align: right;\">\n",
       "      <th></th>\n",
       "      <th>Unnamed: 0</th>\n",
       "      <th>District</th>\n",
       "      <th>notes</th>\n",
       "      <th>active</th>\n",
       "      <th>deceased</th>\n",
       "      <th>confirmed</th>\n",
       "      <th>recovered</th>\n",
       "      <th>newconfirmed</th>\n",
       "      <th>s.no</th>\n",
       "      <th>population_2011</th>\n",
       "      <th>population_2001</th>\n",
       "      <th>Area(sq km)</th>\n",
       "      <th>literacy</th>\n",
       "      <th>Sex ratio(per 1000 boys)</th>\n",
       "    </tr>\n",
       "  </thead>\n",
       "  <tbody>\n",
       "    <tr>\n",
       "      <th>0</th>\n",
       "      <td>1</td>\n",
       "      <td>Akola</td>\n",
       "      <td>NaN</td>\n",
       "      <td>137</td>\n",
       "      <td>11</td>\n",
       "      <td>162</td>\n",
       "      <td>14</td>\n",
       "      <td>0</td>\n",
       "      <td>25</td>\n",
       "      <td>1,813,906</td>\n",
       "      <td>1,630,239</td>\n",
       "      <td>5,676</td>\n",
       "      <td>88.05 %</td>\n",
       "      <td>946</td>\n",
       "    </tr>\n",
       "    <tr>\n",
       "      <th>1</th>\n",
       "      <td>2</td>\n",
       "      <td>Amravati</td>\n",
       "      <td>NaN</td>\n",
       "      <td>49</td>\n",
       "      <td>13</td>\n",
       "      <td>83</td>\n",
       "      <td>21</td>\n",
       "      <td>0</td>\n",
       "      <td>14</td>\n",
       "      <td>2,888,445</td>\n",
       "      <td>2,607,160</td>\n",
       "      <td>12,210</td>\n",
       "      <td>87.38 %</td>\n",
       "      <td>951</td>\n",
       "    </tr>\n",
       "    <tr>\n",
       "      <th>2</th>\n",
       "      <td>3</td>\n",
       "      <td>Aurangabad</td>\n",
       "      <td>NaN</td>\n",
       "      <td>475</td>\n",
       "      <td>14</td>\n",
       "      <td>584</td>\n",
       "      <td>95</td>\n",
       "      <td>0</td>\n",
       "      <td>10</td>\n",
       "      <td>3,701,282</td>\n",
       "      <td>2,897,013</td>\n",
       "      <td>10,107</td>\n",
       "      <td>79.02 %</td>\n",
       "      <td>923</td>\n",
       "    </tr>\n",
       "    <tr>\n",
       "      <th>3</th>\n",
       "      <td>4</td>\n",
       "      <td>Beed</td>\n",
       "      <td>NaN</td>\n",
       "      <td>0</td>\n",
       "      <td>0</td>\n",
       "      <td>1</td>\n",
       "      <td>1</td>\n",
       "      <td>0</td>\n",
       "      <td>19</td>\n",
       "      <td>2,585,049</td>\n",
       "      <td>2,161,250</td>\n",
       "      <td>10,693</td>\n",
       "      <td>76.99 %</td>\n",
       "      <td>916</td>\n",
       "    </tr>\n",
       "    <tr>\n",
       "      <th>4</th>\n",
       "      <td>5</td>\n",
       "      <td>Bhandara</td>\n",
       "      <td>NaN</td>\n",
       "      <td>1</td>\n",
       "      <td>0</td>\n",
       "      <td>1</td>\n",
       "      <td>0</td>\n",
       "      <td>0</td>\n",
       "      <td>31</td>\n",
       "      <td>1,200,334</td>\n",
       "      <td>1,136,146</td>\n",
       "      <td>4,087</td>\n",
       "      <td>83.76 %</td>\n",
       "      <td>982</td>\n",
       "    </tr>\n",
       "  </tbody>\n",
       "</table>\n",
       "</div>"
      ],
      "text/plain": [
       "   Unnamed: 0    District notes  active  deceased  confirmed  recovered  \\\n",
       "0           1       Akola   NaN     137        11        162         14   \n",
       "1           2    Amravati   NaN      49        13         83         21   \n",
       "2           3  Aurangabad   NaN     475        14        584         95   \n",
       "3           4        Beed   NaN       0         0          1          1   \n",
       "4           5    Bhandara   NaN       1         0          1          0   \n",
       "\n",
       "   newconfirmed  s.no population_2011 population_2001 Area(sq km) literacy  \\\n",
       "0             0    25       1,813,906       1,630,239       5,676  88.05 %   \n",
       "1             0    14       2,888,445       2,607,160      12,210  87.38 %   \n",
       "2             0    10       3,701,282       2,897,013      10,107  79.02 %   \n",
       "3             0    19       2,585,049       2,161,250      10,693  76.99 %   \n",
       "4             0    31       1,200,334       1,136,146       4,087  83.76 %   \n",
       "\n",
       "   Sex ratio(per 1000 boys)  \n",
       "0                       946  \n",
       "1                       951  \n",
       "2                       923  \n",
       "3                       916  \n",
       "4                       982  "
      ]
     },
     "execution_count": 15,
     "metadata": {},
     "output_type": "execute_result"
    }
   ],
   "source": [
    "F_D.head()"
   ]
  },
  {
   "cell_type": "code",
   "execution_count": null,
   "metadata": {},
   "outputs": [],
   "source": []
  },
  {
   "cell_type": "markdown",
   "metadata": {},
   "source": [
    "As it is pretty clear that the data set has some unwanted columns and it is in an improper format,  so we will do some data prepossessing\n",
    "to make data more  workable:"
   ]
  },
  {
   "cell_type": "code",
   "execution_count": null,
   "metadata": {},
   "outputs": [],
   "source": []
  },
  {
   "cell_type": "code",
   "execution_count": 16,
   "metadata": {},
   "outputs": [],
   "source": [
    "F_D = F_D.drop(['s.no','Unnamed: 0' , 'notes','newconfirmed' ,'population_2001','Sex ratio(per 1000 boys)'] , axis = 1) # removing unwantad columns "
   ]
  },
  {
   "cell_type": "markdown",
   "metadata": {},
   "source": [
    "Now let’s change the values into workable numbers format"
   ]
  },
  {
   "cell_type": "code",
   "execution_count": null,
   "metadata": {},
   "outputs": [],
   "source": []
  },
  {
   "cell_type": "code",
   "execution_count": 17,
   "metadata": {},
   "outputs": [],
   "source": [
    "for value in F_D['population_2011'] :\n",
    "    SS = str(value).split(',')\n",
    "    r  = ''.join(SS)\n",
    "    F_D = F_D.replace(to_replace =  value , \n",
    "                 value = float(r))\n",
    "\n",
    "for value in F_D['Area(sq km)'] :\n",
    "    SS = str(value).split(',')\n",
    "    r  = ''.join(SS)\n",
    "    F_D = F_D.replace(to_replace =  value , \n",
    "                 value = float(r))\n",
    "\n",
    "for value in F_D['literacy'] :\n",
    "    SS = str(value).split('%')\n",
    "    r  = SS[0]\n",
    "    F_D = F_D.replace(to_replace =  value , \n",
    "                 value = float(r))"
   ]
  },
  {
   "cell_type": "code",
   "execution_count": null,
   "metadata": {},
   "outputs": [],
   "source": []
  },
  {
   "cell_type": "markdown",
   "metadata": {},
   "source": [
    "As we have modified most of the data fields, now its time to look at the data set"
   ]
  },
  {
   "cell_type": "code",
   "execution_count": 18,
   "metadata": {},
   "outputs": [
    {
     "data": {
      "text/html": [
       "<div>\n",
       "<style scoped>\n",
       "    .dataframe tbody tr th:only-of-type {\n",
       "        vertical-align: middle;\n",
       "    }\n",
       "\n",
       "    .dataframe tbody tr th {\n",
       "        vertical-align: top;\n",
       "    }\n",
       "\n",
       "    .dataframe thead th {\n",
       "        text-align: right;\n",
       "    }\n",
       "</style>\n",
       "<table border=\"1\" class=\"dataframe\">\n",
       "  <thead>\n",
       "    <tr style=\"text-align: right;\">\n",
       "      <th></th>\n",
       "      <th>District</th>\n",
       "      <th>active</th>\n",
       "      <th>deceased</th>\n",
       "      <th>confirmed</th>\n",
       "      <th>recovered</th>\n",
       "      <th>population_2011</th>\n",
       "      <th>Area(sq km)</th>\n",
       "      <th>literacy</th>\n",
       "    </tr>\n",
       "  </thead>\n",
       "  <tbody>\n",
       "    <tr>\n",
       "      <th>0</th>\n",
       "      <td>Akola</td>\n",
       "      <td>137</td>\n",
       "      <td>11</td>\n",
       "      <td>162</td>\n",
       "      <td>14</td>\n",
       "      <td>1813906.0</td>\n",
       "      <td>5676.0</td>\n",
       "      <td>88.05</td>\n",
       "    </tr>\n",
       "    <tr>\n",
       "      <th>1</th>\n",
       "      <td>Amravati</td>\n",
       "      <td>49</td>\n",
       "      <td>13</td>\n",
       "      <td>83</td>\n",
       "      <td>21</td>\n",
       "      <td>2888445.0</td>\n",
       "      <td>12210.0</td>\n",
       "      <td>87.38</td>\n",
       "    </tr>\n",
       "    <tr>\n",
       "      <th>2</th>\n",
       "      <td>Aurangabad</td>\n",
       "      <td>475</td>\n",
       "      <td>14</td>\n",
       "      <td>584</td>\n",
       "      <td>95</td>\n",
       "      <td>3701282.0</td>\n",
       "      <td>10107.0</td>\n",
       "      <td>79.02</td>\n",
       "    </tr>\n",
       "    <tr>\n",
       "      <th>3</th>\n",
       "      <td>Beed</td>\n",
       "      <td>0</td>\n",
       "      <td>0</td>\n",
       "      <td>1</td>\n",
       "      <td>1</td>\n",
       "      <td>2585049.0</td>\n",
       "      <td>10693.0</td>\n",
       "      <td>76.99</td>\n",
       "    </tr>\n",
       "    <tr>\n",
       "      <th>4</th>\n",
       "      <td>Bhandara</td>\n",
       "      <td>1</td>\n",
       "      <td>0</td>\n",
       "      <td>1</td>\n",
       "      <td>0</td>\n",
       "      <td>1200334.0</td>\n",
       "      <td>4087.0</td>\n",
       "      <td>83.76</td>\n",
       "    </tr>\n",
       "  </tbody>\n",
       "</table>\n",
       "</div>"
      ],
      "text/plain": [
       "     District  active  deceased  confirmed  recovered  population_2011  \\\n",
       "0       Akola     137        11        162         14        1813906.0   \n",
       "1    Amravati      49        13         83         21        2888445.0   \n",
       "2  Aurangabad     475        14        584         95        3701282.0   \n",
       "3        Beed       0         0          1          1        2585049.0   \n",
       "4    Bhandara       1         0          1          0        1200334.0   \n",
       "\n",
       "   Area(sq km)  literacy  \n",
       "0       5676.0     88.05  \n",
       "1      12210.0     87.38  \n",
       "2      10107.0     79.02  \n",
       "3      10693.0     76.99  \n",
       "4       4087.0     83.76  "
      ]
     },
     "execution_count": 18,
     "metadata": {},
     "output_type": "execute_result"
    }
   ],
   "source": [
    "F_D.head()"
   ]
  },
  {
   "cell_type": "code",
   "execution_count": null,
   "metadata": {},
   "outputs": [],
   "source": []
  },
  {
   "cell_type": "markdown",
   "metadata": {},
   "source": [
    "Now it looks like something that we can work with. Let’s see what more we  can do to modify the dataset before directly starting visualizing the data\n",
    "\n",
    "we will add some new column and normalize the data"
   ]
  },
  {
   "cell_type": "code",
   "execution_count": 19,
   "metadata": {},
   "outputs": [],
   "source": [
    "F_D['Density'] = F_D['population_2011'] / F_D['Area(sq km)']"
   ]
  },
  {
   "cell_type": "code",
   "execution_count": 20,
   "metadata": {},
   "outputs": [
    {
     "data": {
      "text/html": [
       "<div>\n",
       "<style scoped>\n",
       "    .dataframe tbody tr th:only-of-type {\n",
       "        vertical-align: middle;\n",
       "    }\n",
       "\n",
       "    .dataframe tbody tr th {\n",
       "        vertical-align: top;\n",
       "    }\n",
       "\n",
       "    .dataframe thead th {\n",
       "        text-align: right;\n",
       "    }\n",
       "</style>\n",
       "<table border=\"1\" class=\"dataframe\">\n",
       "  <thead>\n",
       "    <tr style=\"text-align: right;\">\n",
       "      <th></th>\n",
       "      <th>District</th>\n",
       "      <th>active</th>\n",
       "      <th>deceased</th>\n",
       "      <th>confirmed</th>\n",
       "      <th>recovered</th>\n",
       "      <th>population_2011</th>\n",
       "      <th>Area(sq km)</th>\n",
       "      <th>literacy</th>\n",
       "      <th>Density</th>\n",
       "    </tr>\n",
       "  </thead>\n",
       "  <tbody>\n",
       "    <tr>\n",
       "      <th>0</th>\n",
       "      <td>Akola</td>\n",
       "      <td>0.069744</td>\n",
       "      <td>0.069620</td>\n",
       "      <td>0.057747</td>\n",
       "      <td>0.012891</td>\n",
       "      <td>0.094438</td>\n",
       "      <td>0.137504</td>\n",
       "      <td>0.985839</td>\n",
       "      <td>0.157346</td>\n",
       "    </tr>\n",
       "    <tr>\n",
       "      <th>1</th>\n",
       "      <td>Amravati</td>\n",
       "      <td>0.025590</td>\n",
       "      <td>0.082278</td>\n",
       "      <td>0.029412</td>\n",
       "      <td>0.019337</td>\n",
       "      <td>0.199676</td>\n",
       "      <td>0.702925</td>\n",
       "      <td>0.957934</td>\n",
       "      <td>0.073833</td>\n",
       "    </tr>\n",
       "    <tr>\n",
       "      <th>2</th>\n",
       "      <td>Aurangabad</td>\n",
       "      <td>0.239338</td>\n",
       "      <td>0.088608</td>\n",
       "      <td>0.209110</td>\n",
       "      <td>0.087477</td>\n",
       "      <td>0.279284</td>\n",
       "      <td>0.520942</td>\n",
       "      <td>0.609746</td>\n",
       "      <td>0.204263</td>\n",
       "    </tr>\n",
       "    <tr>\n",
       "      <th>3</th>\n",
       "      <td>Beed</td>\n",
       "      <td>0.001004</td>\n",
       "      <td>0.000000</td>\n",
       "      <td>0.000000</td>\n",
       "      <td>0.000921</td>\n",
       "      <td>0.169962</td>\n",
       "      <td>0.571651</td>\n",
       "      <td>0.525198</td>\n",
       "      <td>0.079052</td>\n",
       "    </tr>\n",
       "    <tr>\n",
       "      <th>4</th>\n",
       "      <td>Bhandara</td>\n",
       "      <td>0.001505</td>\n",
       "      <td>0.000000</td>\n",
       "      <td>0.000000</td>\n",
       "      <td>0.000000</td>\n",
       "      <td>0.034345</td>\n",
       "      <td>0.000000</td>\n",
       "      <td>0.807164</td>\n",
       "      <td>0.131310</td>\n",
       "    </tr>\n",
       "  </tbody>\n",
       "</table>\n",
       "</div>"
      ],
      "text/plain": [
       "     District    active  deceased  confirmed  recovered  population_2011  \\\n",
       "0       Akola  0.069744  0.069620   0.057747   0.012891         0.094438   \n",
       "1    Amravati  0.025590  0.082278   0.029412   0.019337         0.199676   \n",
       "2  Aurangabad  0.239338  0.088608   0.209110   0.087477         0.279284   \n",
       "3        Beed  0.001004  0.000000   0.000000   0.000921         0.169962   \n",
       "4    Bhandara  0.001505  0.000000   0.000000   0.000000         0.034345   \n",
       "\n",
       "   Area(sq km)  literacy   Density  \n",
       "0     0.137504  0.985839  0.157346  \n",
       "1     0.702925  0.957934  0.073833  \n",
       "2     0.520942  0.609746  0.204263  \n",
       "3     0.571651  0.525198  0.079052  \n",
       "4     0.000000  0.807164  0.131310  "
      ]
     },
     "execution_count": 20,
     "metadata": {},
     "output_type": "execute_result"
    }
   ],
   "source": [
    " def normalize(df):\n",
    "    result = df.copy()\n",
    "    for feature_name in df.columns:\n",
    "        if (feature_name == 'District'):\n",
    "          result[feature_name] = df[feature_name]\n",
    "          continue\n",
    "        max_value = df[feature_name].max()\n",
    "        min_value = df[feature_name].min()\n",
    "        result[feature_name] = (df[feature_name] - min_value) / (max_value - min_value)\n",
    "    return result\n",
    "\n",
    "F_D = normalize(F_D)\n",
    "F_D.head()"
   ]
  },
  {
   "cell_type": "code",
   "execution_count": null,
   "metadata": {},
   "outputs": [],
   "source": []
  },
  {
   "cell_type": "markdown",
   "metadata": {},
   "source": [
    "# visualizing and Analyzing  the data"
   ]
  },
  {
   "cell_type": "markdown",
   "metadata": {},
   "source": [
    "\n",
    "\n",
    "Now we are ready, Let’s start visualizing the data\n",
    "\t\t\t\n",
    "First, we will find out the correlation between different entities with the no. of confirmed cases for all the districts in Maharashtra, it may have some relations with the spread of the coronavirus."
   ]
  },
  {
   "cell_type": "code",
   "execution_count": null,
   "metadata": {},
   "outputs": [],
   "source": []
  },
  {
   "cell_type": "code",
   "execution_count": 21,
   "metadata": {},
   "outputs": [
    {
     "data": {
      "text/plain": [
       "<seaborn.axisgrid.PairGrid at 0x7f3b1aae0ad0>"
      ]
     },
     "execution_count": 21,
     "metadata": {},
     "output_type": "execute_result"
    },
    {
     "data": {
      "image/png": "[encoded data removed]",
      "text/plain": [
       "<Figure size 997.125x900 with 25 Axes>"
      ]
     },
     "metadata": {
      "needs_background": "light"
     },
     "output_type": "display_data"
    }
   ],
   "source": [
    "g = sns.PairGrid(F_D, vars=[ 'confirmed','population_2011', 'Area(sq km)',  'literacy', 'Density'],\n",
    "                 hue='District', palette='RdBu_r')\n",
    "g.map(plt.scatter, alpha=0.8)\n",
    "g.add_legend()"
   ]
  },
  {
   "cell_type": "code",
   "execution_count": null,
   "metadata": {},
   "outputs": [],
   "source": []
  },
  {
   "cell_type": "markdown",
   "metadata": {},
   "source": [
    "From this figure, we can see that how different entities in the dataset are related with each other but our region of interest is in the correlation of the no of confirmed cases in the different districts with the population, area, literacy, and density, now as we can see that each of them is showing some relation with the on. of confirmed cases, let’s dive deep into this and try to draw some conclusion out of it.\n",
    "\t\t\t\n",
    "No. of confirmed cases in the district  versus the population of that district"
   ]
  },
  {
   "cell_type": "code",
   "execution_count": null,
   "metadata": {},
   "outputs": [],
   "source": []
  },
  {
   "cell_type": "code",
   "execution_count": 22,
   "metadata": {},
   "outputs": [
    {
     "data": {
      "image/png": "[encoded data removed]",
      "text/plain": [
       "<Figure size 432x432 with 3 Axes>"
      ]
     },
     "metadata": {},
     "output_type": "display_data"
    }
   ],
   "source": [
    "sns.set(font_scale=1.4)\n",
    "sns.jointplot(data=F_D, x='confirmed', y='population_2011', kind='reg', color='g')\n",
    "plt.show()"
   ]
  },
  {
   "cell_type": "code",
   "execution_count": null,
   "metadata": {},
   "outputs": [],
   "source": []
  },
  {
   "cell_type": "markdown",
   "metadata": {},
   "source": [
    "As we can see that the population and no of corona cases have some near-linear relation and if the coronavirus starts to spread in the high populated  district the this would be a difficult condition as we have one  example \" MUMBAI CITY \" ( highly populated City  )\n",
    "\t\t\t\n",
    "As we have seen that the population plays an important role in the spread of the coronavirus now let’s try to find out  \" If a district has a high population spread on the large area, then will it affect the corona spread? \"\n",
    "\t\t\t\n",
    "In short, let’s analyze the  No. of confirmed cases in the district  versus  population_Density of that district"
   ]
  },
  {
   "cell_type": "code",
   "execution_count": null,
   "metadata": {},
   "outputs": [],
   "source": []
  },
  {
   "cell_type": "code",
   "execution_count": 23,
   "metadata": {},
   "outputs": [
    {
     "data": {
      "image/png": "[encoded data removed]",
      "text/plain": [
       "<Figure size 432x432 with 3 Axes>"
      ]
     },
     "metadata": {},
     "output_type": "display_data"
    }
   ],
   "source": [
    "sns.jointplot(data=F_D, x='confirmed', y='Density', kind='reg', color='r')\n",
    "plt.show()"
   ]
  },
  {
   "cell_type": "code",
   "execution_count": null,
   "metadata": {},
   "outputs": [],
   "source": []
  },
  {
   "cell_type": "markdown",
   "metadata": {},
   "source": [
    "Well, this turns out to be nearly the same as the population curve but with the minute changes. As we can see that the density curve has higher slop than the population curve, this means that if the district has high population density then there is a high chance of widespread of coronavirus in that district\n",
    "\t\t\t\n",
    "this concludes our first Question, and also while taking actions against the spread of COVID, authorities should focus more on Districts with a high population and high population density. To protect such districts should be our first priority.\n",
    "\t\t\t\n",
    "Now let’s look at the second question.\n",
    "We will analyze this data and try to draw some conclusion out off it\n",
    "\t\t\t\n",
    "No. of confirmed cases in the district versus  literacy rate of that district"
   ]
  },
  {
   "cell_type": "code",
   "execution_count": null,
   "metadata": {},
   "outputs": [],
   "source": []
  },
  {
   "cell_type": "code",
   "execution_count": 24,
   "metadata": {},
   "outputs": [
    {
     "data": {
      "image/png": "[encoded data removed]",
      "text/plain": [
       "<Figure size 432x432 with 3 Axes>"
      ]
     },
     "metadata": {},
     "output_type": "display_data"
    }
   ],
   "source": [
    "sns.jointplot(data=F_D, x='confirmed', y='literacy', kind='reg', color='b')\n",
    "plt.show()"
   ]
  },
  {
   "cell_type": "code",
   "execution_count": null,
   "metadata": {},
   "outputs": [],
   "source": []
  },
  {
   "cell_type": "markdown",
   "metadata": {},
   "source": [
    "Now it’s pretty clear that it’s not showing bold relation between literacy rate and no. of confirmed cases, this is because fortunately, corona spread is less compared to the population of Maharashtra ( 11.42 crores ), but we can conclude some logical points out of this :\n",
    "most of the districts with high corona count ( more than 0.15 in this plot ) showing on an average  good literacy rate\n",
    "roughly districts with less literacy rate ( less than 0.6 ) have less corona spread\n",
    "\t\t\t\n",
    "we can not directly say the relationship between the literacy rate and corona spread but somewhere\n",
    "Alertness and being proactive  is more impotent than educational knowledge ( in order to stop corona spread )\n",
    "Overall there are many factors that cause the corona spread but in order to study the role of such factors in spreading the virus,  we need more research and time. Eventually such kind of research is not only helpful for the current situation but also can lead the way in incoming crises."
   ]
  },
  {
   "cell_type": "code",
   "execution_count": null,
   "metadata": {},
   "outputs": [],
   "source": []
  },
  {
   "cell_type": "code",
   "execution_count": null,
   "metadata": {},
   "outputs": [],
   "source": []
  },
  {
   "cell_type": "code",
   "execution_count": null,
   "metadata": {},
   "outputs": [],
   "source": []
  },
  {
   "cell_type": "code",
   "execution_count": null,
   "metadata": {},
   "outputs": [],
   "source": []
  },
  {
   "cell_type": "code",
   "execution_count": null,
   "metadata": {},
   "outputs": [],
   "source": []
  },
  {
   "cell_type": "code",
   "execution_count": null,
   "metadata": {},
   "outputs": [],
   "source": []
  },
  {
   "cell_type": "code",
   "execution_count": null,
   "metadata": {},
   "outputs": [],
   "source": []
  },
  {
   "cell_type": "code",
   "execution_count": null,
   "metadata": {},
   "outputs": [],
   "source": []
  },
  {
   "cell_type": "code",
   "execution_count": null,
   "metadata": {},
   "outputs": [],
   "source": []
  },
  {
   "cell_type": "code",
   "execution_count": null,
   "metadata": {},
   "outputs": [],
   "source": []
  },
  {
   "cell_type": "code",
   "execution_count": null,
   "metadata": {},
   "outputs": [],
   "source": []
  },
  {
   "cell_type": "code",
   "execution_count": null,
   "metadata": {},
   "outputs": [],
   "source": []
  },
  {
   "cell_type": "code",
   "execution_count": null,
   "metadata": {},
   "outputs": [],
   "source": []
  },
  {
   "cell_type": "code",
   "execution_count": null,
   "metadata": {},
   "outputs": [],
   "source": []
  },
  {
   "cell_type": "code",
   "execution_count": null,
   "metadata": {},
   "outputs": [],
   "source": []
  },
  {
   "cell_type": "code",
   "execution_count": null,
   "metadata": {},
   "outputs": [],
   "source": []
  },
  {
   "cell_type": "markdown",
   "metadata": {},
   "source": [
    "# "
   ]
  }
 ],
 "metadata": {
  "kernelspec": {
   "display_name": "Python 3",
   "language": "python",
   "name": "python3"
  },
  "language_info": {
   "codemirror_mode": {
    "name": "ipython",
    "version": 3
   },
   "file_extension": ".py",
   "mimetype": "text/x-python",
   "name": "python",
   "nbconvert_exporter": "python",
   "pygments_lexer": "ipython3",
   "version": "3.7.5"
  }
 },
 "nbformat": 4,
 "nbformat_minor": 4
}
